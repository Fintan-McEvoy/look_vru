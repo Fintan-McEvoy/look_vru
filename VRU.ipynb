{
 "cells": [
  {
   "cell_type": "markdown",
   "id": "12f7cb19",
   "metadata": {},
   "source": [
    "### Title of VRU paper and author list\n",
    "Under peer review\n",
    "\n",
    "\n",
    "This is a JUPYTER notebook that explains and run the computer R code associated with this paper.  The code itself is available for download adn inspection from this interface or directly at GitHub (URL:) "
   ]
  },
  {
   "cell_type": "code",
   "execution_count": null,
   "id": "dd1a307c",
   "metadata": {},
   "outputs": [],
   "source": [
    "#Load required libraries\n",
    "base_dir <- getwd()\n",
    "source(\"scripts/required_libraries.R\")"
   ]
  },
  {
   "cell_type": "markdown",
   "id": "e2bd3557",
   "metadata": {},
   "source": [
    "The following cell runs a function to decompress CT image  zip file and place the decompressed file is a data folder that whic will be accessed by later cells.  The demo zim file contains 3 sample images, a transverse CT image in the region of the left kidney, and the image immediately cranial and immediately caudal.  With 3 images the central image has an index position 2 in the stack. \n",
    "\n",
    "The code can run on your images- From your CT scan select the image that includes the left renal pelvis and the two adjacent images.  Compress these three images to a \".zip\" file, and place that file in the directory \"user_zip_files\".  You should then change the code below to specify the correct file path (i.e. change (base_dir,\"zip_files\",\"demo_images.zip\") to read (base_dir,\"user_zip_files\",\"NAME OF YOUR ZIP FILE.zip\")  \n",
    "\n",
    "readDICOM is a function in R that opens DICOM files."
   ]
  },
  {
   "cell_type": "code",
   "execution_count": null,
   "id": "5c88d4e6",
   "metadata": {},
   "outputs": [],
   "source": [
    "#Load images\n",
    "image_folder_path <- file.path(base_dir, \"data_folder\")\n",
    "files_to_delete <- list.files(image_folder_path, full.names = TRUE)\n",
    "unlink(files_to_delete, recursive = TRUE)\n",
    "unzip(file.path(base_dir,\"zip_files\",\"demo_images.zip\"), exdir = file.path(base_dir,\"data_folder\"))\n",
    "dcmImages= readDICOM(file.path(base_dir,\"data_folder\"),verbose=TRUE, recursive=TRUE )"
   ]
  },
  {
   "cell_type": "markdown",
   "id": "abd4f778",
   "metadata": {},
   "source": [
    "The following loads text files that specify variables, such as the CT range appropriate for fat, and variable that rae extracted from the DICOM header , e.g. rescale_slope and rescale_intercept, wariables used to convert the image pixel values to CT Numbers (Hounsfield units).   \n",
    "\n",
    "Multiple functions are loaded so that can be used in the cells that follow. All functions can be inspected on ths site by looking through the uploaded directories."
   ]
  },
  {
   "cell_type": "code",
   "execution_count": null,
   "id": "c9452753",
   "metadata": {},
   "outputs": [],
   "source": [
    "# Load setup functions and variables\n",
    "\n",
    "source(\"scripts/variables.R\")\n",
    "\n",
    "source (\"functions/fn_count_fat_plus_lean_voxels_single_slice.R\")\n",
    "source (\"functions/fn_count_fat_plus_lean_voxels_all_slices.R\")\n",
    "source (\"functions/fn_count_fat_voxels_single_slice.R\")\n",
    "source (\"functions/fn_delete_folder_contents.R\")\n",
    "source (\"functions/fn_estimate_fat_percent_lt_kidney.R\")\n",
    "source (\"functions/fn_plot_voxel_frequencies.R\")\n",
    "source (\"functions/fn_plot_segmentation.R\")\n",
    "\n",
    "## Other soutrce files source(\"scripts/setParams.R\")"
   ]
  },
  {
   "cell_type": "markdown",
   "id": "bcb394cf",
   "metadata": {},
   "source": [
    "The following cell displays the slice specified as left renal. "
   ]
  },
  {
   "cell_type": "code",
   "execution_count": null,
   "id": "643a54df",
   "metadata": {},
   "outputs": [],
   "source": [
    "lt_kidney_slice <- 2\n",
    "\n",
    "img <- (t(dcmImages$img[[lt_kidney_slice]]))\n",
    "img_flipped <- img[nrow(img):1,]  # Flip the image matrix horizontally\n",
    "image(1:ncol(img_flipped), 1:nrow(img_flipped), (img_flipped), col = grey(0:64/64), axes = FALSE, xlab = \"\", ylab = \"\")"
   ]
  },
  {
   "cell_type": "markdown",
   "id": "462fbe0f",
   "metadata": {},
   "source": [
    "The next cell, calls the function \"count_fat_voxles_lt_kidney\" .  This function moves through voxel  by voxel in the central image of the stack. If its CT number and all 26 adjacent voxels fall in the range expected for fat, the voxel is included in the count of fat voxels.  If these conditions are not met, then the code moves to the next voxel and repeats the assessmet. The function outputs the total umber of voxels classified as fat.    "
   ]
  },
  {
   "cell_type": "code",
   "execution_count": null,
   "id": "8b702412",
   "metadata": {},
   "outputs": [],
   "source": [
    "##Count all fat voxels in the left kidney\n",
    "highlight_coords <- count_fat_voxels_lt_kidney_slice(2)\n",
    "fat_voxel_count <-length(highlight_coords)\n"
   ]
  },
  {
   "cell_type": "markdown",
   "id": "137dbfb2",
   "metadata": {},
   "source": [
    "The following cell, makes a count of all voxels in the slice that fall in the range for fat and lean tissue (-250 to 200 HU)"
   ]
  },
  {
   "cell_type": "code",
   "execution_count": null,
   "id": "2a3fabbf",
   "metadata": {},
   "outputs": [],
   "source": [
    "fat_plus_lean_voxel_count <- count_all_voxels_single_slice(2)\n",
    "fat_plus_lean_voxel_count"
   ]
  },
  {
   "cell_type": "markdown",
   "id": "57e1c0ff",
   "metadata": {},
   "source": [
    "The function below plots the number of fat voxels and the number of combined fat and lean voxels. "
   ]
  },
  {
   "cell_type": "code",
   "execution_count": null,
   "id": "aa7c84d0",
   "metadata": {},
   "outputs": [],
   "source": [
    "plot_voxel_frequencies(fat_voxel_count,fat_plus_lean_voxel_count)"
   ]
  },
  {
   "cell_type": "markdown",
   "id": "c7c48950",
   "metadata": {},
   "source": [
    "The function below uses the linear function described in the paper, to convert the Fat % calculated by CT to a prediction of the Fat % calculated by the chemical analysis."
   ]
  },
  {
   "cell_type": "code",
   "execution_count": null,
   "id": "b67d8e68",
   "metadata": {},
   "outputs": [],
   "source": [
    "estimate_fat_percent_single_slice(fat_voxel_count,fat_plus_lean_voxel_count)"
   ]
  },
  {
   "cell_type": "markdown",
   "id": "47619f5f",
   "metadata": {},
   "source": [
    "The result of the segmentation (for fat) is shown below.  The image on the left is the original, that on the right shows the areas identified as fat (brown shading)."
   ]
  },
  {
   "cell_type": "code",
   "execution_count": null,
   "id": "05b869f2",
   "metadata": {},
   "outputs": [],
   "source": [
    "plot_segmentation()"
   ]
  }
 ],
 "metadata": {
  "kernelspec": {
   "display_name": "R",
   "language": "R",
   "name": "ir"
  },
  "language_info": {
   "codemirror_mode": "r",
   "file_extension": ".r",
   "mimetype": "text/x-r-source",
   "name": "R",
   "pygments_lexer": "r",
   "version": "4.3.3"
  }
 },
 "nbformat": 4,
 "nbformat_minor": 5
}
